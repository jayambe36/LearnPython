{
  "nbformat": 4,
  "nbformat_minor": 0,
  "metadata": {
    "colab": {
      "name": "SmitPatel_IAS.ipynb",
      "private_outputs": true,
      "provenance": [],
      "authorship_tag": "ABX9TyN4LSqeLvJ9WNdjoWlt8RtB",
      "include_colab_link": true
    },
    "kernelspec": {
      "name": "python3",
      "display_name": "Python 3"
    },
    "language_info": {
      "name": "python"
    },
    "accelerator": "GPU"
  },
  "cells": [
    {
      "cell_type": "markdown",
      "metadata": {
        "id": "view-in-github",
        "colab_type": "text"
      },
      "source": [
        "<a href=\"https://colab.research.google.com/github/smitpatel9898/LearnPython/blob/master/SmitPatel_IAS.ipynb\" target=\"_parent\"><img src=\"https://colab.research.google.com/assets/colab-badge.svg\" alt=\"Open In Colab\"/></a>"
      ]
    },
    {
      "cell_type": "code",
      "metadata": {
        "id": "9rdycJoVB5ed"
      },
      "source": [
        "! cat /proc/cpuinfo"
      ],
      "execution_count": null,
      "outputs": []
    },
    {
      "cell_type": "code",
      "metadata": {
        "id": "NpgDqUWdKksG"
      },
      "source": [
        "! cat /proc/meminfo"
      ],
      "execution_count": null,
      "outputs": []
    },
    {
      "cell_type": "code",
      "metadata": {
        "id": "sVA5lR51MQ6Q"
      },
      "source": [
        "!nvidia-smi "
      ],
      "execution_count": null,
      "outputs": []
    },
    {
      "cell_type": "code",
      "metadata": {
        "id": "69LuIMkml7Pz"
      },
      "source": [
        "import time\n",
        "\n",
        "# starting time\n",
        "start = time.time()\n",
        "\n",
        "# program body starts\n",
        "for i in range(10):\n",
        "    print(i)\n",
        "\n",
        "!nvidia-smi\n",
        "\n",
        "# sleeping for 1 sec to get 10 sec runtime\n",
        "time.sleep(1)\n",
        "\n",
        "# program body ends\n",
        "\n",
        "# end time\n",
        "end = time.time()\n",
        "\n",
        "# total time taken\n",
        "print(f\"Runtime of the program is {end - start}\")"
      ],
      "execution_count": null,
      "outputs": []
    },
    {
      "cell_type": "code",
      "metadata": {
        "id": "KvvPyt5EiQPy"
      },
      "source": [
        "pwd"
      ],
      "execution_count": null,
      "outputs": []
    },
    {
      "cell_type": "markdown",
      "metadata": {
        "id": "pwYqNPj-iwNP"
      },
      "source": [
        "# New Section"
      ]
    },
    {
      "cell_type": "markdown",
      "metadata": {
        "id": "SrmO6fFziwub"
      },
      "source": [
        "# New Section"
      ]
    },
    {
      "cell_type": "code",
      "metadata": {
        "id": "woJ9Dh5YbtQQ"
      },
      "source": [
        "import time\n",
        "def sum_of_n_numbers(n):\n",
        "    start_time = time.time()\n",
        "    s = 0\n",
        "    for i in range(1,n+1):\n",
        "        s = s + i\n",
        "    end_time = time.time()\n",
        "    return s,end_time-start_time\n",
        "\n",
        "n = 5\n",
        "print(\"\\nTime to sum of 1 to \",n,\" and required time to calculate is :\",sum_of_n_numbers(n))\n"
      ],
      "execution_count": null,
      "outputs": []
    }
  ]
}